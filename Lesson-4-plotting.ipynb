{
 "cells": [
  {
   "cell_type": "markdown",
   "id": "9fffb995-e221-400b-b2fd-6c87669929a8",
   "metadata": {},
   "source": [
    "# Plotting\n",
    "Learn the basics fo plotting with `pandas` from *preliminary* visual exploratory of data"
   ]
  },
  {
   "cell_type": "markdown",
   "id": "ed234834-6a2d-4819-b9a3-71175eaebc1d",
   "metadata": {
    "tags": []
   },
   "source": [
    "Lets start by importing the dataset"
   ]
  },
  {
   "cell_type": "code",
   "execution_count": 3,
   "id": "6f5f63e0-a324-4929-b95e-39e30c7bf03b",
   "metadata": {
    "tags": []
   },
   "outputs": [
    {
     "ename": "NameError",
     "evalue": "name 'glacial_loss' is not defined",
     "output_type": "error",
     "traceback": [
      "\u001b[0;31m---------------------------------------------------------------------------\u001b[0m",
      "\u001b[0;31mNameError\u001b[0m                                 Traceback (most recent call last)",
      "\u001b[0;32m/tmp/ipykernel_845886/4155476204.py\u001b[0m in \u001b[0;36m<module>\u001b[0;34m\u001b[0m\n\u001b[1;32m      2\u001b[0m \u001b[0;34m\u001b[0m\u001b[0m\n\u001b[1;32m      3\u001b[0m \u001b[0;31m#read in file\u001b[0m\u001b[0;34m\u001b[0m\u001b[0;34m\u001b[0m\u001b[0m\n\u001b[0;32m----> 4\u001b[0;31m \u001b[0mdf\u001b[0m \u001b[0;34m=\u001b[0m \u001b[0mpd\u001b[0m\u001b[0;34m.\u001b[0m\u001b[0mread_csv\u001b[0m\u001b[0;34m(\u001b[0m\u001b[0mglacial_loss\u001b[0m\u001b[0;34m.\u001b[0m\u001b[0mcsv\u001b[0m\u001b[0;34m)\u001b[0m\u001b[0;34m\u001b[0m\u001b[0;34m\u001b[0m\u001b[0m\n\u001b[0m",
      "\u001b[0;31mNameError\u001b[0m: name 'glacial_loss' is not defined"
     ]
    }
   ],
   "source": [
    "import pandas as pd\n",
    "\n",
    "#read in file\n",
    "df = pd.read_csv(glacial_loss.csv)"
   ]
  },
  {
   "cell_type": "markdown",
   "id": "8a27c20a-60fd-4e04-8524-93a674fa1a8f",
   "metadata": {
    "tags": []
   },
   "source": [
    "# `plot()` method\n",
    "`pandas.DataFrame` has a built in "
   ]
  },
  {
   "cell_type": "code",
   "execution_count": 6,
   "id": "33cab310-dfed-4827-880b-3806605811ab",
   "metadata": {
    "tags": []
   },
   "outputs": [
    {
     "ename": "NameError",
     "evalue": "name 'df' is not defined",
     "output_type": "error",
     "traceback": [
      "\u001b[0;31m---------------------------------------------------------------------------\u001b[0m",
      "\u001b[0;31mNameError\u001b[0m                                 Traceback (most recent call last)",
      "\u001b[0;32m/tmp/ipykernel_845886/3380326488.py\u001b[0m in \u001b[0;36m<module>\u001b[0;34m\u001b[0m\n\u001b[0;32m----> 1\u001b[0;31m \u001b[0mdf\u001b[0m\u001b[0;34m.\u001b[0m\u001b[0mplot\u001b[0m\u001b[0;34m(\u001b[0m\u001b[0;34m)\u001b[0m\u001b[0;34m\u001b[0m\u001b[0;34m\u001b[0m\u001b[0m\n\u001b[0m",
      "\u001b[0;31mNameError\u001b[0m: name 'df' is not defined"
     ]
    }
   ],
   "source": [
    "df.plot()"
   ]
  },
  {
   "cell_type": "markdown",
   "id": "1128801f-ec80-46c9-972d-fbe92d0f9d91",
   "metadata": {},
   "source": [
    "## Line plots\n",
    "we can make a line plot of one column against another by using the following syntax:\n",
    "```\n",
    "df.plot(x='x')"
   ]
  },
  {
   "cell_type": "code",
   "execution_count": null,
   "id": "9a81d101-38f7-44f8-a58f-f5df3d3b0dda",
   "metadata": {},
   "outputs": [],
   "source": [
    "\n",
    "df.plot(x = 'year', y = 'europe')"
   ]
  },
  {
   "cell_type": "markdown",
   "id": "716a1d39-fb14-461c-ae40-a778bc4bf821",
   "metadata": {},
   "source": [
    "Basic customization specifying other arguments in `plot()`\n",
    "\n",
    "Example:"
   ]
  },
  {
   "cell_type": "code",
   "execution_count": null,
   "id": "890b794d-6552-467a-af1e-57d70b51de67",
   "metadata": {},
   "outputs": [],
   "source": [
    "#change in glacial volumn per year in Europe\n",
    "df.plot(x = 'year',\n",
    "        y = 'europe',\n",
    "       title = 'change',\n",
    "       xlable = \n",
    "       ylable = \n",
    "       color = )"
   ]
  },
  {
   "cell_type": "markdown",
   "id": "e95b00ff-d90a-42c3-8545-fbba33de1c50",
   "metadata": {},
   "source": [
    "# Multiple line plots\n",
    "\n",
    "We want to graph the change in glacial volume in the Artic and alaska. Update these arguments:\n",
    "\n",
    "- 'y': is a list of column names that will be plotted against x\n",
    "- color': specigy the color of each column with a dictionary `{ ' col1':'color1', 'col2':'color2' }`\n",
    "\n",
    "Example:"
   ]
  },
  {
   "cell_type": "code",
   "execution_count": 7,
   "id": "539c97ce-cce9-4a84-97a0-2772a66628ee",
   "metadata": {
    "tags": []
   },
   "outputs": [
    {
     "ename": "NameError",
     "evalue": "name 'df' is not defined",
     "output_type": "error",
     "traceback": [
      "\u001b[0;31m---------------------------------------------------------------------------\u001b[0m",
      "\u001b[0;31mNameError\u001b[0m                                 Traceback (most recent call last)",
      "\u001b[0;32m/tmp/ipykernel_845886/1887576839.py\u001b[0m in \u001b[0;36m<module>\u001b[0;34m\u001b[0m\n\u001b[1;32m      2\u001b[0m           'alaska' : 'yellow'}\n\u001b[1;32m      3\u001b[0m \u001b[0;34m\u001b[0m\u001b[0m\n\u001b[0;32m----> 4\u001b[0;31m df.plot(x = 'year',\n\u001b[0m\u001b[1;32m      5\u001b[0m         y = ['arctic'])\n",
      "\u001b[0;31mNameError\u001b[0m: name 'df' is not defined"
     ]
    }
   ],
   "source": [
    "colors = {'arctic' : '#F48FB1',\n",
    "          'alaska' : 'yellow'}\n",
    "\n",
    "df.plot(x = 'year',\n",
    "        y = ['arctic'],\n",
    "        color = colors)"
   ]
  },
  {
   "cell_type": "code",
   "execution_count": 8,
   "id": "1c562063-670b-4868-92a0-a0db429b7836",
   "metadata": {
    "tags": []
   },
   "outputs": [
    {
     "ename": "SyntaxError",
     "evalue": "invalid syntax (3142832076.py, line 1)",
     "output_type": "error",
     "traceback": [
      "\u001b[0;36m  File \u001b[0;32m\"/tmp/ipykernel_845886/3142832076.py\"\u001b[0;36m, line \u001b[0;32m1\u001b[0m\n\u001b[0;31m    Create separate plots setting the `subset`\u001b[0m\n\u001b[0m           ^\u001b[0m\n\u001b[0;31mSyntaxError\u001b[0m\u001b[0;31m:\u001b[0m invalid syntax\n"
     ]
    }
   ],
   "source": [
    "Create separate plots setting the `subset`"
   ]
  },
  {
   "cell_type": "markdown",
   "id": "74a154b1-280b-42e0-a9cf-ceff7975f3d2",
   "metadata": {},
   "source": [
    "## Check-in\n",
    "(1) Plot a graph of the annual sea level rise with respect to the years\n",
    "(2) In the following code, what information is stored in the `columns` variable? Describe what we are plotting"
   ]
  },
  {
   "cell_type": "code",
   "execution_count": 9,
   "id": "9f69b59c-f103-4ebf-8589-4eed81568657",
   "metadata": {
    "tags": []
   },
   "outputs": [
    {
     "ename": "NameError",
     "evalue": "name 'df' is not defined",
     "output_type": "error",
     "traceback": [
      "\u001b[0;31m---------------------------------------------------------------------------\u001b[0m",
      "\u001b[0;31mNameError\u001b[0m                                 Traceback (most recent call last)",
      "\u001b[0;32m/tmp/ipykernel_845886/2151475370.py\u001b[0m in \u001b[0;36m<module>\u001b[0;34m\u001b[0m\n\u001b[0;32m----> 1\u001b[0;31m \u001b[0mcolumns\u001b[0m \u001b[0;34m=\u001b[0m \u001b[0mdf\u001b[0m\u001b[0;34m.\u001b[0m\u001b[0mloc\u001b[0m\u001b[0;34m[\u001b[0m\u001b[0;34m:\u001b[0m\u001b[0;34m,\u001b[0m \u001b[0;34m'europe'\u001b[0m\u001b[0;34m:\u001b[0m \u001b[0;34m'antartica'\u001b[0m\u001b[0;34m.\u001b[0m\u001b[0mcolumns\u001b[0m\u001b[0;34m]\u001b[0m\u001b[0;34m\u001b[0m\u001b[0;34m\u001b[0m\u001b[0m\n\u001b[0m\u001b[1;32m      2\u001b[0m \u001b[0;34m\u001b[0m\u001b[0m\n\u001b[1;32m      3\u001b[0m df.plot(x = 'year',\n\u001b[1;32m      4\u001b[0m        \u001b[0my\u001b[0m \u001b[0;34m=\u001b[0m \u001b[0;34m'annual_sea_level_rise'\u001b[0m\u001b[0;34m,\u001b[0m\u001b[0;34m\u001b[0m\u001b[0;34m\u001b[0m\u001b[0m\n\u001b[1;32m      5\u001b[0m        subplots = True)\n",
      "\u001b[0;31mNameError\u001b[0m: name 'df' is not defined"
     ]
    }
   ],
   "source": [
    "columns = df.loc[:, 'europe': 'antartica'.columns]\n",
    "\n",
    "df.plot(x = 'year',\n",
    "       y = 'annual_sea_level_rise',\n",
    "       subplots = True)\n",
    "\n"
   ]
  },
  {
   "cell_type": "markdown",
   "id": "cf2cbcd0-c26b-4ef0-b43f-0c755c3c85bc",
   "metadata": {},
   "source": [
    "## Palmer penguins dataset\n",
    "\n",
    "We will read the dataset for the following URL:\n",
    "bit.ly/palmer-penguins-csv\n",
    "\n",
    "When doing it should look like this"
   ]
  },
  {
   "cell_type": "code",
   "execution_count": 10,
   "id": "11478d1a-260b-4914-bd48-b9db8620278c",
   "metadata": {
    "tags": []
   },
   "outputs": [
    {
     "data": {
      "text/html": [
       "<div>\n",
       "<style scoped>\n",
       "    .dataframe tbody tr th:only-of-type {\n",
       "        vertical-align: middle;\n",
       "    }\n",
       "\n",
       "    .dataframe tbody tr th {\n",
       "        vertical-align: top;\n",
       "    }\n",
       "\n",
       "    .dataframe thead th {\n",
       "        text-align: right;\n",
       "    }\n",
       "</style>\n",
       "<table border=\"1\" class=\"dataframe\">\n",
       "  <thead>\n",
       "    <tr style=\"text-align: right;\">\n",
       "      <th></th>\n",
       "      <th>species</th>\n",
       "      <th>island</th>\n",
       "      <th>bill_length_mm</th>\n",
       "      <th>bill_depth_mm</th>\n",
       "      <th>flipper_length_mm</th>\n",
       "      <th>body_mass_g</th>\n",
       "      <th>sex</th>\n",
       "      <th>year</th>\n",
       "    </tr>\n",
       "  </thead>\n",
       "  <tbody>\n",
       "    <tr>\n",
       "      <th>0</th>\n",
       "      <td>Adelie</td>\n",
       "      <td>Torgersen</td>\n",
       "      <td>39.1</td>\n",
       "      <td>18.7</td>\n",
       "      <td>181.0</td>\n",
       "      <td>3750.0</td>\n",
       "      <td>male</td>\n",
       "      <td>2007</td>\n",
       "    </tr>\n",
       "    <tr>\n",
       "      <th>1</th>\n",
       "      <td>Adelie</td>\n",
       "      <td>Torgersen</td>\n",
       "      <td>39.5</td>\n",
       "      <td>17.4</td>\n",
       "      <td>186.0</td>\n",
       "      <td>3800.0</td>\n",
       "      <td>female</td>\n",
       "      <td>2007</td>\n",
       "    </tr>\n",
       "    <tr>\n",
       "      <th>2</th>\n",
       "      <td>Adelie</td>\n",
       "      <td>Torgersen</td>\n",
       "      <td>40.3</td>\n",
       "      <td>18.0</td>\n",
       "      <td>195.0</td>\n",
       "      <td>3250.0</td>\n",
       "      <td>female</td>\n",
       "      <td>2007</td>\n",
       "    </tr>\n",
       "    <tr>\n",
       "      <th>3</th>\n",
       "      <td>Adelie</td>\n",
       "      <td>Torgersen</td>\n",
       "      <td>NaN</td>\n",
       "      <td>NaN</td>\n",
       "      <td>NaN</td>\n",
       "      <td>NaN</td>\n",
       "      <td>NaN</td>\n",
       "      <td>2007</td>\n",
       "    </tr>\n",
       "    <tr>\n",
       "      <th>4</th>\n",
       "      <td>Adelie</td>\n",
       "      <td>Torgersen</td>\n",
       "      <td>36.7</td>\n",
       "      <td>19.3</td>\n",
       "      <td>193.0</td>\n",
       "      <td>3450.0</td>\n",
       "      <td>female</td>\n",
       "      <td>2007</td>\n",
       "    </tr>\n",
       "  </tbody>\n",
       "</table>\n",
       "</div>"
      ],
      "text/plain": [
       "  species     island  bill_length_mm  bill_depth_mm  flipper_length_mm  \\\n",
       "0  Adelie  Torgersen            39.1           18.7              181.0   \n",
       "1  Adelie  Torgersen            39.5           17.4              186.0   \n",
       "2  Adelie  Torgersen            40.3           18.0              195.0   \n",
       "3  Adelie  Torgersen             NaN            NaN                NaN   \n",
       "4  Adelie  Torgersen            36.7           19.3              193.0   \n",
       "\n",
       "   body_mass_g     sex  year  \n",
       "0       3750.0    male  2007  \n",
       "1       3800.0  female  2007  \n",
       "2       3250.0  female  2007  \n",
       "3          NaN     NaN  2007  \n",
       "4       3450.0  female  2007  "
      ]
     },
     "execution_count": 10,
     "metadata": {},
     "output_type": "execute_result"
    }
   ],
   "source": [
    "# read in data\n",
    "penguins = pd.read_csv('https://raw.githubusercontent.com/allisonhorst/palmerpenguins/main/inst/extdata/penguins.csv')\n",
    "\n",
    "# look at dataframe's head\n",
    "penguins.head()"
   ]
  },
  {
   "cell_type": "code",
   "execution_count": 11,
   "id": "5e59a69b-0b56-463b-bd91-5ca495a9b513",
   "metadata": {
    "tags": []
   },
   "outputs": [
    {
     "name": "stdout",
     "output_type": "stream",
     "text": [
      "<class 'pandas.core.frame.DataFrame'>\n",
      "RangeIndex: 344 entries, 0 to 343\n",
      "Data columns (total 8 columns):\n",
      " #   Column             Non-Null Count  Dtype  \n",
      "---  ------             --------------  -----  \n",
      " 0   species            344 non-null    object \n",
      " 1   island             344 non-null    object \n",
      " 2   bill_length_mm     342 non-null    float64\n",
      " 3   bill_depth_mm      342 non-null    float64\n",
      " 4   flipper_length_mm  342 non-null    float64\n",
      " 5   body_mass_g        342 non-null    float64\n",
      " 6   sex                333 non-null    object \n",
      " 7   year               344 non-null    int64  \n",
      "dtypes: float64(4), int64(1), object(3)\n",
      "memory usage: 21.6+ KB\n"
     ]
    }
   ],
   "source": [
    "# check column data types and NA values\n",
    "penguins.info()"
   ]
  },
  {
   "cell_type": "code",
   "execution_count": 12,
   "id": "3c18a740-124d-4013-8214-343347d4455b",
   "metadata": {
    "tags": []
   },
   "outputs": [
    {
     "data": {
      "text/html": [
       "<div>\n",
       "<style scoped>\n",
       "    .dataframe tbody tr th:only-of-type {\n",
       "        vertical-align: middle;\n",
       "    }\n",
       "\n",
       "    .dataframe tbody tr th {\n",
       "        vertical-align: top;\n",
       "    }\n",
       "\n",
       "    .dataframe thead th {\n",
       "        text-align: right;\n",
       "    }\n",
       "</style>\n",
       "<table border=\"1\" class=\"dataframe\">\n",
       "  <thead>\n",
       "    <tr style=\"text-align: right;\">\n",
       "      <th></th>\n",
       "      <th>bill_length_mm</th>\n",
       "      <th>bill_depth_mm</th>\n",
       "      <th>flipper_length_mm</th>\n",
       "      <th>body_mass_g</th>\n",
       "      <th>year</th>\n",
       "    </tr>\n",
       "  </thead>\n",
       "  <tbody>\n",
       "    <tr>\n",
       "      <th>count</th>\n",
       "      <td>342.000000</td>\n",
       "      <td>342.000000</td>\n",
       "      <td>342.000000</td>\n",
       "      <td>342.000000</td>\n",
       "      <td>344.000000</td>\n",
       "    </tr>\n",
       "    <tr>\n",
       "      <th>mean</th>\n",
       "      <td>43.921930</td>\n",
       "      <td>17.151170</td>\n",
       "      <td>200.915205</td>\n",
       "      <td>4201.754386</td>\n",
       "      <td>2008.029070</td>\n",
       "    </tr>\n",
       "    <tr>\n",
       "      <th>std</th>\n",
       "      <td>5.459584</td>\n",
       "      <td>1.974793</td>\n",
       "      <td>14.061714</td>\n",
       "      <td>801.954536</td>\n",
       "      <td>0.818356</td>\n",
       "    </tr>\n",
       "    <tr>\n",
       "      <th>min</th>\n",
       "      <td>32.100000</td>\n",
       "      <td>13.100000</td>\n",
       "      <td>172.000000</td>\n",
       "      <td>2700.000000</td>\n",
       "      <td>2007.000000</td>\n",
       "    </tr>\n",
       "    <tr>\n",
       "      <th>25%</th>\n",
       "      <td>39.225000</td>\n",
       "      <td>15.600000</td>\n",
       "      <td>190.000000</td>\n",
       "      <td>3550.000000</td>\n",
       "      <td>2007.000000</td>\n",
       "    </tr>\n",
       "    <tr>\n",
       "      <th>50%</th>\n",
       "      <td>44.450000</td>\n",
       "      <td>17.300000</td>\n",
       "      <td>197.000000</td>\n",
       "      <td>4050.000000</td>\n",
       "      <td>2008.000000</td>\n",
       "    </tr>\n",
       "    <tr>\n",
       "      <th>75%</th>\n",
       "      <td>48.500000</td>\n",
       "      <td>18.700000</td>\n",
       "      <td>213.000000</td>\n",
       "      <td>4750.000000</td>\n",
       "      <td>2009.000000</td>\n",
       "    </tr>\n",
       "    <tr>\n",
       "      <th>max</th>\n",
       "      <td>59.600000</td>\n",
       "      <td>21.500000</td>\n",
       "      <td>231.000000</td>\n",
       "      <td>6300.000000</td>\n",
       "      <td>2009.000000</td>\n",
       "    </tr>\n",
       "  </tbody>\n",
       "</table>\n",
       "</div>"
      ],
      "text/plain": [
       "       bill_length_mm  bill_depth_mm  flipper_length_mm  body_mass_g  \\\n",
       "count      342.000000     342.000000         342.000000   342.000000   \n",
       "mean        43.921930      17.151170         200.915205  4201.754386   \n",
       "std          5.459584       1.974793          14.061714   801.954536   \n",
       "min         32.100000      13.100000         172.000000  2700.000000   \n",
       "25%         39.225000      15.600000         190.000000  3550.000000   \n",
       "50%         44.450000      17.300000         197.000000  4050.000000   \n",
       "75%         48.500000      18.700000         213.000000  4750.000000   \n",
       "max         59.600000      21.500000         231.000000  6300.000000   \n",
       "\n",
       "              year  \n",
       "count   344.000000  \n",
       "mean   2008.029070  \n",
       "std       0.818356  \n",
       "min    2007.000000  \n",
       "25%    2007.000000  \n",
       "50%    2008.000000  \n",
       "75%    2009.000000  \n",
       "max    2009.000000  "
      ]
     },
     "execution_count": 12,
     "metadata": {},
     "output_type": "execute_result"
    }
   ],
   "source": [
    "# simple statistics about numeric columns\n",
    "penguins.describe()"
   ]
  },
  {
   "cell_type": "code",
   "execution_count": 13,
   "id": "3b4f04e9-a117-4ccb-8186-9a31806f53e2",
   "metadata": {
    "tags": []
   },
   "outputs": [
    {
     "data": {
      "text/plain": [
       "species    3\n",
       "island     3\n",
       "sex        2\n",
       "year       3\n",
       "dtype: int64"
      ]
     },
     "execution_count": 13,
     "metadata": {},
     "output_type": "execute_result"
    }
   ],
   "source": [
    "# get count unique values in categorical columns and year\n",
    "penguins[['species', 'island', 'sex', 'year']].nunique()"
   ]
  },
  {
   "cell_type": "code",
   "execution_count": 14,
   "id": "b6885239-988b-4c9f-ac0a-c19e2ab65428",
   "metadata": {
    "tags": []
   },
   "outputs": [
    {
     "name": "stdout",
     "output_type": "stream",
     "text": [
      "['Adelie' 'Gentoo' 'Chinstrap']\n"
     ]
    }
   ],
   "source": [
    "# get unique values in species column\n",
    "print(penguins.species.unique())"
   ]
  },
  {
   "cell_type": "code",
   "execution_count": 15,
   "id": "ed48ad7f-4eba-4abf-8134-86861ae063a1",
   "metadata": {
    "tags": []
   },
   "outputs": [
    {
     "name": "stdout",
     "output_type": "stream",
     "text": [
      "Adelie       152\n",
      "Gentoo       124\n",
      "Chinstrap     68\n",
      "Name: species, dtype: int64\n"
     ]
    }
   ],
   "source": [
    "# species unique value counts \n",
    "print(penguins.species.value_counts())"
   ]
  },
  {
   "cell_type": "markdown",
   "id": "282e8561-f101-4b4d-b277-121ec968a08d",
   "metadata": {},
   "source": [
    "# `kind` argument in `plot()`\n",
    "`plot()` default = creating a line plot\n",
    "\n",
    "pa"
   ]
  },
  {
   "cell_type": "markdown",
   "id": "80024f00-c452-4a3a-9649-ae14fc5ac22b",
   "metadata": {},
   "source": [
    "# Scatterplot\n",
    "\n",
    "Example: visually compare the flipper length against body mass"
   ]
  },
  {
   "cell_type": "code",
   "execution_count": 17,
   "id": "7875bc30-6016-4eaa-afde-199c29beec14",
   "metadata": {
    "tags": []
   },
   "outputs": [
    {
     "data": {
      "text/plain": [
       "<AxesSubplot:xlabel='flipper_length_mm', ylabel='body_mass_g'>"
      ]
     },
     "execution_count": 17,
     "metadata": {},
     "output_type": "execute_result"
    },
    {
     "data": {
      "image/png": "[encoded data removed]",
      "text/plain": [
       "<Figure size 640x480 with 1 Axes>"
      ]
     },
     "metadata": {},
     "output_type": "display_data"
    }
   ],
   "source": [
    "penguins.plot(kind='scatter',\n",
    "        x='flipper_length_mm', \n",
    "        y='body_mass_g',\n",
    "        alpha = 0.4 #controls transparency of points\n",
    "             )"
   ]
  },
  {
   "cell_type": "markdown",
   "id": "e2b88c6e-b267-4044-abe7-9db1c3ab7df3",
   "metadata": {},
   "source": [
    "## Bar plot\n",
    "\n",
    "Set `kind = 'bar'` in the `plot ()` method.\n",
    "\n",
    "Example: we want to get data about the 10 penguins with the lowest body mass and visualize it.\n",
    "\n",
    "1. Find penguins with smallest body mass using `nsmallest()` method for series."
   ]
  },
  {
   "cell_type": "code",
   "execution_count": 20,
   "id": "1169d0be-e7cf-4a8a-a55d-c70ea09055e7",
   "metadata": {
    "tags": []
   },
   "outputs": [
    {
     "data": {
      "text/plain": [
       "314    2700.0\n",
       "58     2850.0\n",
       "64     2850.0\n",
       "54     2900.0\n",
       "98     2900.0\n",
       "116    2900.0\n",
       "298    2900.0\n",
       "104    2925.0\n",
       "47     2975.0\n",
       "44     3000.0\n",
       "Name: body_mass_g, dtype: float64"
      ]
     },
     "execution_count": 20,
     "metadata": {},
     "output_type": "execute_result"
    }
   ],
   "source": [
    "smallest = penguins.body_mass_g.nsmallest(10)\n",
    "smallest"
   ]
  },
  {
   "cell_type": "code",
   "execution_count": 21,
   "id": "f6c15228-6530-4863-b8d6-6599d8925bb9",
   "metadata": {
    "tags": []
   },
   "outputs": [
    {
     "data": {
      "text/plain": [
       "314    2700.0\n",
       "58     2850.0\n",
       "64     2850.0\n",
       "54     2900.0\n",
       "98     2900.0\n",
       "116    2900.0\n",
       "298    2900.0\n",
       "104    2925.0\n",
       "47     2975.0\n",
       "44     3000.0\n",
       "Name: body_mass_g, dtype: float64"
      ]
     },
     "execution_count": 21,
     "metadata": {},
     "output_type": "execute_result"
    }
   ],
   "source": [
    "#sort_values orders values in descending order\n",
    "smallest = penguins.body_mass_g.nsmallest(10).sort_values()\n",
    "smallest"
   ]
  },
  {
   "cell_type": "code",
   "execution_count": 22,
   "id": "586cca07-c30b-4651-87a9-cf50bc829b35",
   "metadata": {
    "tags": []
   },
   "outputs": [
    {
     "data": {
      "text/plain": [
       "<AxesSubplot:>"
      ]
     },
     "execution_count": 22,
     "metadata": {},
     "output_type": "execute_result"
    },
    {
     "data": {
      "image/png": "[encoded data removed]",
      "text/plain": [
       "<Figure size 640x480 with 1 Axes>"
      ]
     },
     "metadata": {},
     "output_type": "display_data"
    }
   ],
   "source": [
    "#plot smallest body masses as bars\n",
    "smallest.plot(kind = 'bar')"
   ]
  },
  {
   "cell_type": "markdown",
   "id": "e32bbf67-7428-463a-943c-a58d15cb51e9",
   "metadata": {},
   "source": [
    "What if we wanted to look at other data for these smallest penguins?\n",
    "\n",
    "We can use the `index` of the `smallest` series to select those rows in the original `penguins` data frame (using `loc`!)"
   ]
  },
  {
   "cell_type": "code",
   "execution_count": 23,
   "id": "4cb48064-3ae8-41c7-a5d0-c6dc2d6ca377",
   "metadata": {
    "tags": []
   },
   "outputs": [
    {
     "data": {
      "text/html": [
       "<div>\n",
       "<style scoped>\n",
       "    .dataframe tbody tr th:only-of-type {\n",
       "        vertical-align: middle;\n",
       "    }\n",
       "\n",
       "    .dataframe tbody tr th {\n",
       "        vertical-align: top;\n",
       "    }\n",
       "\n",
       "    .dataframe thead th {\n",
       "        text-align: right;\n",
       "    }\n",
       "</style>\n",
       "<table border=\"1\" class=\"dataframe\">\n",
       "  <thead>\n",
       "    <tr style=\"text-align: right;\">\n",
       "      <th></th>\n",
       "      <th>species</th>\n",
       "      <th>island</th>\n",
       "      <th>bill_length_mm</th>\n",
       "      <th>bill_depth_mm</th>\n",
       "      <th>flipper_length_mm</th>\n",
       "      <th>body_mass_g</th>\n",
       "      <th>sex</th>\n",
       "      <th>year</th>\n",
       "    </tr>\n",
       "  </thead>\n",
       "  <tbody>\n",
       "    <tr>\n",
       "      <th>314</th>\n",
       "      <td>Chinstrap</td>\n",
       "      <td>Dream</td>\n",
       "      <td>46.9</td>\n",
       "      <td>16.6</td>\n",
       "      <td>192.0</td>\n",
       "      <td>2700.0</td>\n",
       "      <td>female</td>\n",
       "      <td>2008</td>\n",
       "    </tr>\n",
       "    <tr>\n",
       "      <th>58</th>\n",
       "      <td>Adelie</td>\n",
       "      <td>Biscoe</td>\n",
       "      <td>36.5</td>\n",
       "      <td>16.6</td>\n",
       "      <td>181.0</td>\n",
       "      <td>2850.0</td>\n",
       "      <td>female</td>\n",
       "      <td>2008</td>\n",
       "    </tr>\n",
       "    <tr>\n",
       "      <th>64</th>\n",
       "      <td>Adelie</td>\n",
       "      <td>Biscoe</td>\n",
       "      <td>36.4</td>\n",
       "      <td>17.1</td>\n",
       "      <td>184.0</td>\n",
       "      <td>2850.0</td>\n",
       "      <td>female</td>\n",
       "      <td>2008</td>\n",
       "    </tr>\n",
       "    <tr>\n",
       "      <th>54</th>\n",
       "      <td>Adelie</td>\n",
       "      <td>Biscoe</td>\n",
       "      <td>34.5</td>\n",
       "      <td>18.1</td>\n",
       "      <td>187.0</td>\n",
       "      <td>2900.0</td>\n",
       "      <td>female</td>\n",
       "      <td>2008</td>\n",
       "    </tr>\n",
       "    <tr>\n",
       "      <th>98</th>\n",
       "      <td>Adelie</td>\n",
       "      <td>Dream</td>\n",
       "      <td>33.1</td>\n",
       "      <td>16.1</td>\n",
       "      <td>178.0</td>\n",
       "      <td>2900.0</td>\n",
       "      <td>female</td>\n",
       "      <td>2008</td>\n",
       "    </tr>\n",
       "    <tr>\n",
       "      <th>116</th>\n",
       "      <td>Adelie</td>\n",
       "      <td>Torgersen</td>\n",
       "      <td>38.6</td>\n",
       "      <td>17.0</td>\n",
       "      <td>188.0</td>\n",
       "      <td>2900.0</td>\n",
       "      <td>female</td>\n",
       "      <td>2009</td>\n",
       "    </tr>\n",
       "    <tr>\n",
       "      <th>298</th>\n",
       "      <td>Chinstrap</td>\n",
       "      <td>Dream</td>\n",
       "      <td>43.2</td>\n",
       "      <td>16.6</td>\n",
       "      <td>187.0</td>\n",
       "      <td>2900.0</td>\n",
       "      <td>female</td>\n",
       "      <td>2007</td>\n",
       "    </tr>\n",
       "    <tr>\n",
       "      <th>104</th>\n",
       "      <td>Adelie</td>\n",
       "      <td>Biscoe</td>\n",
       "      <td>37.9</td>\n",
       "      <td>18.6</td>\n",
       "      <td>193.0</td>\n",
       "      <td>2925.0</td>\n",
       "      <td>female</td>\n",
       "      <td>2009</td>\n",
       "    </tr>\n",
       "    <tr>\n",
       "      <th>47</th>\n",
       "      <td>Adelie</td>\n",
       "      <td>Dream</td>\n",
       "      <td>37.5</td>\n",
       "      <td>18.9</td>\n",
       "      <td>179.0</td>\n",
       "      <td>2975.0</td>\n",
       "      <td>NaN</td>\n",
       "      <td>2007</td>\n",
       "    </tr>\n",
       "    <tr>\n",
       "      <th>44</th>\n",
       "      <td>Adelie</td>\n",
       "      <td>Dream</td>\n",
       "      <td>37.0</td>\n",
       "      <td>16.9</td>\n",
       "      <td>185.0</td>\n",
       "      <td>3000.0</td>\n",
       "      <td>female</td>\n",
       "      <td>2007</td>\n",
       "    </tr>\n",
       "  </tbody>\n",
       "</table>\n",
       "</div>"
      ],
      "text/plain": [
       "       species     island  bill_length_mm  bill_depth_mm  flipper_length_mm  \\\n",
       "314  Chinstrap      Dream            46.9           16.6              192.0   \n",
       "58      Adelie     Biscoe            36.5           16.6              181.0   \n",
       "64      Adelie     Biscoe            36.4           17.1              184.0   \n",
       "54      Adelie     Biscoe            34.5           18.1              187.0   \n",
       "98      Adelie      Dream            33.1           16.1              178.0   \n",
       "116     Adelie  Torgersen            38.6           17.0              188.0   \n",
       "298  Chinstrap      Dream            43.2           16.6              187.0   \n",
       "104     Adelie     Biscoe            37.9           18.6              193.0   \n",
       "47      Adelie      Dream            37.5           18.9              179.0   \n",
       "44      Adelie      Dream            37.0           16.9              185.0   \n",
       "\n",
       "     body_mass_g     sex  year  \n",
       "314       2700.0  female  2008  \n",
       "58        2850.0  female  2008  \n",
       "64        2850.0  female  2008  \n",
       "54        2900.0  female  2008  \n",
       "98        2900.0  female  2008  \n",
       "116       2900.0  female  2009  \n",
       "298       2900.0  female  2007  \n",
       "104       2925.0  female  2009  \n",
       "47        2975.0     NaN  2007  \n",
       "44        3000.0  female  2007  "
      ]
     },
     "execution_count": 23,
     "metadata": {},
     "output_type": "execute_result"
    }
   ],
   "source": [
    "penguins.loc[smallest.index]"
   ]
  },
  {
   "cell_type": "markdown",
   "id": "3a76d2b3-5c1e-4d52-ae39-6283fa03e062",
   "metadata": {},
   "source": [
    "# Histogram\n",
    "\n",
    "To create a histogram, set `kind = hist` in `plot()`"
   ]
  },
  {
   "cell_type": "code",
   "execution_count": 25,
   "id": "d19f5199-7c5c-40e3-8853-113b2abbcd93",
   "metadata": {
    "tags": []
   },
   "outputs": [
    {
     "data": {
      "text/plain": [
       "<AxesSubplot:ylabel='Frequency'>"
      ]
     },
     "execution_count": 25,
     "metadata": {},
     "output_type": "execute_result"
    },
    {
     "data": {
      "image/png": "[encoded data removed]",
      "text/plain": [
       "<Figure size 640x480 with 1 Axes>"
      ]
     },
     "metadata": {},
     "output_type": "display_data"
    }
   ],
   "source": [
    "# using plot without subsetting data - a mess again (a reminder that we need to subset stuff)\n",
    "penguins.plot(kind='hist')"
   ]
  },
  {
   "cell_type": "code",
   "execution_count": 27,
   "id": "d903984b-c00f-4665-b26f-d7cb5c46d354",
   "metadata": {
    "tags": []
   },
   "outputs": [
    {
     "data": {
      "text/plain": [
       "<AxesSubplot:title={'center':'Penguin flipper lengths'}, ylabel='Frequency'>"
      ]
     },
     "execution_count": 27,
     "metadata": {},
     "output_type": "execute_result"
    },
    {
     "data": {
      "image/png": "[encoded data removed]",
      "text/plain": [
       "<Figure size 640x480 with 1 Axes>"
      ]
     },
     "metadata": {},
     "output_type": "display_data"
    }
   ],
   "source": [
    "#distribution of flipper length measurements\n",
    "#first select data, then plot\n",
    "penguins.flipper_length_mm.plot(kind='hist',\n",
    "                                title= 'Penguin flipper lengths',\n",
    "                                xlabel= 'Flipper length (mm)',\n",
    "                                grid=True)"
   ]
  },
  {
   "cell_type": "markdown",
   "id": "a667188a-891a-4c8c-a369-24b263f8ec36",
   "metadata": {},
   "source": [
    "## Check-in\n",
    "\n",
    "1. Select the bill_length_mm and bill_depth_mm columns in the penguins dataframe and then update the kind parameter to box to make boxplots of the bill length and bill depth.\n",
    "\n",
    "2. Select both rows and columns to create a histogram of the flipper length of gentoo penguins.\n"
   ]
  },
  {
   "cell_type": "code",
   "execution_count": 35,
   "id": "9078602a-7745-4ba1-aee9-5d1c37b144e8",
   "metadata": {
    "tags": []
   },
   "outputs": [
    {
     "data": {
      "text/plain": [
       "<AxesSubplot:>"
      ]
     },
     "execution_count": 35,
     "metadata": {},
     "output_type": "execute_result"
    },
    {
     "data": {
      "image/png": "[encoded data removed]",
      "text/plain": [
       "<Figure size 640x480 with 1 Axes>"
      ]
     },
     "metadata": {},
     "output_type": "display_data"
    }
   ],
   "source": [
    "#1\n",
    "penguins[[\"bill_length_mm\",\"bill_depth_mm\"]].plot(kind = 'box')\n"
   ]
  },
  {
   "cell_type": "code",
   "execution_count": 43,
   "id": "517cc570-9240-426c-b6c0-4f2123227405",
   "metadata": {
    "tags": []
   },
   "outputs": [
    {
     "data": {
      "text/plain": [
       "<AxesSubplot:ylabel='Frequency'>"
      ]
     },
     "execution_count": 43,
     "metadata": {},
     "output_type": "execute_result"
    },
    {
     "data": {
      "image/png": "[encoded data removed]",
      "text/plain": [
       "<Figure size 640x480 with 1 Axes>"
      ]
     },
     "metadata": {},
     "output_type": "display_data"
    }
   ],
   "source": [
    "#2\n",
    "#select the species gentoo\n",
    "gentoo = penguins[penguins.species == \"Gentoo\"]\n",
    "gentoo\n",
    "\n",
    "#select column\n",
    "df = gentoo.flipper_length_mm\n",
    "\n",
    "df.plot(kind = 'hist')"
   ]
  },
  {
   "cell_type": "code",
   "execution_count": null,
   "id": "4cd62234-5acf-4118-a177-ebb16569e2c3",
   "metadata": {},
   "outputs": [],
   "source": [
    "#select the species gentoo\n",
    "gentoo = penguins[penguins.species == \"Gentoo\"]\n",
    "gentoo\n",
    "\n",
    "#select column\n",
    "df = gentoo.flipper_length_mm\n",
    "\n",
    "df.plot(kind = 'hist')"
   ]
  }
 ],
 "metadata": {
  "kernelspec": {
   "display_name": "Anaconda 3 (Base)",
   "language": "python",
   "name": "base"
  },
  "language_info": {
   "codemirror_mode": {
    "name": "ipython",
    "version": 3
   },
   "file_extension": ".py",
   "mimetype": "text/x-python",
   "name": "python",
   "nbconvert_exporter": "python",
   "pygments_lexer": "ipython3",
   "version": "3.9.13"
  }
 },
 "nbformat": 4,
 "nbformat_minor": 5
}
